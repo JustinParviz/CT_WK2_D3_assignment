{
 "cells": [
  {
   "cell_type": "markdown",
   "metadata": {},
   "source": [
    "# Dictionaries & Sets"
   ]
  },
  {
   "cell_type": "markdown",
   "metadata": {},
   "source": [
    "## Tasks Today:\n",
    "\n",
    "1) Dictionary <br>\n",
    " &nbsp;&nbsp;&nbsp;&nbsp; a) Declaring (key, value) <br>\n",
    " &nbsp;&nbsp;&nbsp;&nbsp; b) Accessing Values <br>\n",
    " &nbsp;&nbsp;&nbsp;&nbsp; ------ Exercise #1 - Print the eye color of each person in a double nested dict <br>\n",
    " &nbsp;&nbsp;&nbsp;&nbsp; c) Adding New Pairs <br>\n",
    " &nbsp;&nbsp;&nbsp;&nbsp; d) Modifying Values <br>\n",
    " &nbsp;&nbsp;&nbsp;&nbsp; e) Removing Key, Value Pairs <br>\n",
    " &nbsp;&nbsp;&nbsp;&nbsp; f) Looping a Dictionary <br>\n",
    " &nbsp;&nbsp;&nbsp;&nbsp; g) Looping Only Keys <br>\n",
    " &nbsp;&nbsp;&nbsp;&nbsp; h) Looping Only Values <br>\n",
    " &nbsp;&nbsp;&nbsp;&nbsp; ------ Exercise #2 - Create a Function that Prints All Key Value Pairs within a print .format()  <br>\n",
    " &nbsp;&nbsp;&nbsp;&nbsp; i) sorted() <br>\n",
    " &nbsp;&nbsp;&nbsp;&nbsp; j) Lists with Dictionaries <br>\n",
    " &nbsp;&nbsp;&nbsp;&nbsp; k) Dictionaries with Lists <br>\n",
    " &nbsp;&nbsp;&nbsp;&nbsp; l) Dictionaries with Dictionaries <br>\n",
    " &nbsp;&nbsp;&nbsp;&nbsp; ------ Exercise #3 - Write a Function that asks someone's name and address, and then stores that into a dictionary, which prints all names and addresses after they're done putting information in...  <br>\n",
    "2) Dictionaries vs. Lists (over time)<br>\n",
    "3) Set <br>\n",
    " &nbsp;&nbsp;&nbsp;&nbsp; a) Declaring <br>\n",
    " &nbsp;&nbsp;&nbsp;&nbsp; b) .add() <br>\n",
    " &nbsp;&nbsp;&nbsp;&nbsp; c) .remove() <br>\n",
    " &nbsp;&nbsp;&nbsp;&nbsp; d) .union() <br>\n",
    " &nbsp;&nbsp;&nbsp;&nbsp; e) .intersection() <br>\n",
    " &nbsp;&nbsp;&nbsp;&nbsp; f) .difference() <br>\n",
    " &nbsp;&nbsp;&nbsp;&nbsp; g) Frozen Set <br>\n",
    "4) Exercises <br>\n",
    " &nbsp;&nbsp;&nbsp;&nbsp; a) Build a Shopping Cart <br>\n",
    " &nbsp;&nbsp;&nbsp;&nbsp; b) Create Your Own Module <br>"
   ]
  },
  {
   "cell_type": "markdown",
   "metadata": {},
   "source": [
    "## Dictionary <br>\n",
    "<p>A collection of data with 'key:value' pairs. Dictionaries are ordered as of Python 3.6</p>"
   ]
  },
  {
   "cell_type": "markdown",
   "metadata": {},
   "source": [
    "##### Declaring (key, value)"
   ]
  },
  {
   "cell_type": "code",
   "execution_count": 1,
   "metadata": {},
   "outputs": [
    {
     "name": "stdout",
     "output_type": "stream",
     "text": [
      "{}\n",
      "{}\n",
      "{'Tom': '255 Main St', 'Jerry': '256 Main St', 0: 'This is a zero'}\n"
     ]
    }
   ],
   "source": [
    "# keys should be unique\n",
    "# can use numbers or strings as keys\n",
    "# empty dictionary\n",
    "d_1 = {}\n",
    "print(d_1)\n",
    "# or\n",
    "\n",
    "d_2 = dict()\n",
    "print(d_2)\n",
    "\n",
    "\n",
    "# d_2[\"some\"] = \"value\"\n",
    "\n",
    "# print(d_2)\n",
    "\n",
    "d_3 = {\n",
    "    \"Tom\": \"255 Main St\",\n",
    "    \"Jerry\": \"256 Main St\",\n",
    "    0: \"This is a zero\"\n",
    "}\n",
    "\n",
    "print(d_3)\n"
   ]
  },
  {
   "cell_type": "markdown",
   "metadata": {},
   "source": [
    "##### Accessing Values"
   ]
  },
  {
   "cell_type": "code",
   "execution_count": 5,
   "metadata": {},
   "outputs": [
    {
     "name": "stdout",
     "output_type": "stream",
     "text": [
      "255 Main St\n",
      "256 Main St\n",
      "This is a zero\n"
     ]
    }
   ],
   "source": [
    "# dict[key]\n",
    "print(d_3[\"Tom\"])\n",
    "print(d_3[\"Jerry\"])\n",
    "print(d_3[0]) # care with numbers as keys because it looks like a list index"
   ]
  },
  {
   "cell_type": "code",
   "execution_count": 10,
   "metadata": {},
   "outputs": [
    {
     "name": "stdout",
     "output_type": "stream",
     "text": [
      "{0: 'Ryan', 1: 'Will', 2: 'Justin', 3: 'Alex'}\n",
      "Justin\n"
     ]
    }
   ],
   "source": [
    "names = [\"Ryan\", \"Will\", \"Justin\", \"Alex\"]\n",
    "names_dict = {}\n",
    "\n",
    "for i, name in enumerate(names):\n",
    "    names_dict[i] = name\n",
    "print(names_dict)\n",
    "\n",
    "print(names_dict[2])"
   ]
  },
  {
   "cell_type": "markdown",
   "metadata": {},
   "source": [
    "##### Accessing values with dict.get()"
   ]
  },
  {
   "cell_type": "code",
   "execution_count": 13,
   "metadata": {},
   "outputs": [
    {
     "name": "stdout",
     "output_type": "stream",
     "text": [
      "255 Main St\n",
      "None\n",
      "address not found\n"
     ]
    }
   ],
   "source": [
    "#dict.get(key, value)\n",
    "d_3 = {\n",
    "    \"Tom\": \"255 Main St\",\n",
    "    \"Jerry\": \"256 Main St\",\n",
    "    0: \"This is a zero\"\n",
    "}\n",
    "\n",
    "print(d_3.get(\"Tom\"))\n",
    "print(d_3.get(\"Spike\"))\n",
    "\n",
    "print(d_3.get(\"Spike\", \"address not found\"))"
   ]
  },
  {
   "cell_type": "markdown",
   "metadata": {},
   "source": [
    "## In-Class Exercise #1 - Print a formatted statement from the dictionary below <br>\n",
    "<p>The output should be '2018 Chevrolet Silverado'</p>"
   ]
  },
  {
   "cell_type": "code",
   "execution_count": 20,
   "metadata": {},
   "outputs": [
    {
     "name": "stdout",
     "output_type": "stream",
     "text": [
      "2018 Chevrolet Silverado\n",
      "2018 Chevrolet Silverado\n",
      "2018 Chevrolet Silverado\n"
     ]
    }
   ],
   "source": [
    "# use the dict below\n",
    "truck = {\n",
    "    \"year\": 2018,\n",
    "    'make': 'Chevrolet',\n",
    "    'model': 'Silverado'\n",
    "}\n",
    "# you can use the f string\n",
    "# f\"{}\"\n",
    "\n",
    "print(truck.get(\"year\"), truck.get(\"make\"), truck.get(\"model\"))\n",
    "\n",
    "print(f\"{truck.get(\"year\")} {truck.get(\"make\")} {truck.get(\"model\")}\")\n",
    "\n",
    "print(f\"{truck[\"year\"]} {truck[\"make\"]} {truck[\"model\"]}\")\n"
   ]
  },
  {
   "cell_type": "markdown",
   "metadata": {},
   "source": [
    "##### Adding New Pairs"
   ]
  },
  {
   "cell_type": "code",
   "execution_count": 22,
   "metadata": {},
   "outputs": [
    {
     "name": "stdout",
     "output_type": "stream",
     "text": [
      "{'Tom': '255 Main St', 'Jerry': '256 Main St', 0: 'This is a zero', 'Spike': '257 Main St', 'Tike': '257 Main St'}\n"
     ]
    }
   ],
   "source": [
    "# dict[key] = value\n",
    "# keys in a dictionary must be unique\n",
    "\n",
    "#d_3 = {\n",
    "#   \"Tom\": \"255 Main St\",\n",
    "#   \"Tom\": \"257 Main St\",\n",
    "#   \"Jerry\": \"256 Main St\",\n",
    "#   \"0\": \"This is a zero\"\n",
    "#}\n",
    "\n",
    "d_3 = {\n",
    "    \"Tom\": \"255 Main St\",\n",
    "    \"Jerry\": \"256 Main St\",\n",
    "    0: \"This is a zero\"\n",
    "}\n",
    "\n",
    "d_3[\"Spike\"] = \"257 Main St\"\n",
    "d_3[\"Tike\"] = \"257 Main St\"\n",
    "\n",
    "print(d_3)"
   ]
  },
  {
   "cell_type": "markdown",
   "metadata": {},
   "source": [
    "##### Modifying Values"
   ]
  },
  {
   "cell_type": "code",
   "execution_count": 25,
   "metadata": {},
   "outputs": [
    {
     "name": "stdout",
     "output_type": "stream",
     "text": [
      "{'Tom': '254 Main St', 'Jerry': '256 Main St', 0: 'This is a zero', 'Spike': '257 Main St', 'Tike': '258 Main St'}\n",
      "{'Tom': '254 Main St', 'Jerry': '256 Main St', 0: 'This is a zero', 'Spike': '257 Main St', 'Tike': '258 Main St'}\n",
      "<class 'str'>\n",
      "258 Main St 60561\n"
     ]
    }
   ],
   "source": [
    "# dict[key] = value\n",
    "print(d_3)\n",
    "d_3[\"Tike\"] = \"258 Main St\"\n",
    "d_3[\"Tom\"] = \"254 Main St\"\n",
    "\n",
    "print(d_3)\n",
    "\n",
    "print(type(d_3[\"Tike\"]))\n",
    "# \"258 Main St\" = \"258 Main St\" + \"60561\"\n",
    "d_3[\"Tike\"] = d_3[\"Tike\"] + \" 60561\"\n",
    "print(d_3[\"Tike\"])"
   ]
  },
  {
   "cell_type": "code",
   "execution_count": 27,
   "metadata": {},
   "outputs": [
    {
     "name": "stdout",
     "output_type": "stream",
     "text": [
      "{'Lando': 1}\n",
      "{'Lando': 1, 'Mega Man': 1}\n",
      "{'Lando': 1, 'Mega Man': 1, 'Cheetor': 1}\n",
      "{'Lando': 1, 'Mega Man': 1, 'Cheetor': 1, 'Charizard': 1}\n",
      "{'Lando': 2, 'Mega Man': 1, 'Cheetor': 1, 'Charizard': 1}\n",
      "{'Lando': 2, 'Mega Man': 2, 'Cheetor': 1, 'Charizard': 1}\n",
      "{'Lando': 3, 'Mega Man': 2, 'Cheetor': 1, 'Charizard': 1}\n",
      "{'Lando': 4, 'Mega Man': 2, 'Cheetor': 1, 'Charizard': 1}\n",
      "{'Lando': 4, 'Mega Man': 2, 'Cheetor': 1, 'Charizard': 2}\n"
     ]
    }
   ],
   "source": [
    "names_list = [\"Lando\", \"Mega Man\", \"Cheetor\", \"Charizard\", \"Lando\", \"Mega Man\", \"Lando\", \"Lando\", \"Charizard\"]\n",
    "count_dict = {}\n",
    "for name in names_list:\n",
    "    if name not in count_dict:\n",
    "        count_dict[name] = 1\n",
    "        print(count_dict)\n",
    "    else:\n",
    "        count_dict[name] +=1\n",
    "        print(count_dict)\n",
    "\n",
    "\n",
    "# ** This is how to create a Counter Dictionary **\n",
    "# ** Ryan said to save this and keep it somewhere safe since this is very important and will probably be used for WhiteBoards **\n",
    "        "
   ]
  },
  {
   "cell_type": "markdown",
   "metadata": {},
   "source": [
    "##### Removing Key, Value Pairs"
   ]
  },
  {
   "cell_type": "code",
   "execution_count": 29,
   "metadata": {},
   "outputs": [
    {
     "name": "stdout",
     "output_type": "stream",
     "text": [
      "{'bananas': 0, 'apples': 7}\n",
      "{'apples': 7}\n"
     ]
    }
   ],
   "source": [
    "# del dict[key]\n",
    "# del deletes anything\n",
    "\n",
    "\n",
    "#print(d_3)\n",
    "\n",
    "#del d_3[\"0\"]\n",
    "\n",
    "#print(d_3)\n",
    "\n",
    "\n",
    "#name = \"Duck\"\n",
    "#print(name)\n",
    "#del name\n",
    "#print(name)\n",
    "\n",
    "\n",
    "\n",
    "my_cart = {\n",
    "    \"bananas\": 0,\n",
    "    \"apples\": 7\n",
    "}\n",
    "\n",
    "print(my_cart)\n",
    "\n",
    "if my_cart[\"bananas\"] <= 0:\n",
    "    del my_cart[\"bananas\"]\n",
    "\n",
    "print(my_cart)\n",
    "\n"
   ]
  },
  {
   "cell_type": "markdown",
   "metadata": {},
   "source": [
    "### Looping a Dictionary"
   ]
  },
  {
   "cell_type": "markdown",
   "metadata": {},
   "source": [
    "##### Looping through items (key and values)"
   ]
  },
  {
   "cell_type": "code",
   "execution_count": 31,
   "metadata": {},
   "outputs": [
    {
     "name": "stdout",
     "output_type": "stream",
     "text": [
      "Tom lives at 254 Main St\n",
      "Jerry lives at 256 Main St\n",
      "0 lives at This is a zero\n",
      "Spike lives at 257 Main St\n",
      "Tike lives at 258 Main St 60561\n",
      "Tom lives at 254 Main St\n",
      "Jerry lives at 256 Main St\n",
      "0 lives at This is a zero\n",
      "Spike lives at 257 Main St\n",
      "Tike lives at 258 Main St 60561\n"
     ]
    }
   ],
   "source": [
    "# .items()\n",
    "# a, b, c = 1, 2, 3\n",
    "for name_address in d_3.items():\n",
    "    print(f\"{name_address[0]} lives at {name_address[1]}\") #index into the returned tuple\n",
    "    \n",
    "for name, address in d_3.items():\n",
    "    print(f\"{name} lives at {address}\")"
   ]
  },
  {
   "cell_type": "markdown",
   "metadata": {},
   "source": [
    "##### Looping Only Keys"
   ]
  },
  {
   "cell_type": "code",
   "execution_count": 32,
   "metadata": {},
   "outputs": [
    {
     "name": "stdout",
     "output_type": "stream",
     "text": [
      "{'Tom': '254 Main St', 'Jerry': '256 Main St', 0: 'This is a zero', 'Spike': '257 Main St', 'Tike': '258 Main St 60561'}\n",
      "Tom\n",
      "Jerry\n",
      "0\n",
      "Spike\n",
      "Tike\n",
      "\n",
      "\n",
      "Tom\n",
      "Jerry\n",
      "0\n",
      "Spike\n",
      "Tike\n",
      "dict_keys(['Tom', 'Jerry', 0, 'Spike', 'Tike'])\n"
     ]
    }
   ],
   "source": [
    "# Looping through a dictionary will default to the keys\n",
    "# or\n",
    "# .keys()\n",
    "\n",
    "print(d_3)\n",
    "for key in d_3:\n",
    "    print(key)\n",
    "\n",
    "print(\"\\n\")\n",
    "\n",
    "for key in d_3.keys():\n",
    "    print(key)\n",
    "\n",
    "print(d_3.keys())\n"
   ]
  },
  {
   "cell_type": "markdown",
   "metadata": {},
   "source": [
    "##### Looping Only Values"
   ]
  },
  {
   "cell_type": "code",
   "execution_count": 40,
   "metadata": {
    "scrolled": true
   },
   "outputs": [
    {
     "name": "stdout",
     "output_type": "stream",
     "text": [
      "{'Tom': '254 Main St', 'Jerry': '256 Main St', 0: 'This is a zero', 'Spike': '257 Main St60561', 'Tike': '258 Main St 60561'}\n",
      "dict_values(['254 Main St', '256 Main St', 'This is a zero', '257 Main St60561', '258 Main St 60561'])\n",
      "254 Main St\n",
      "256 Main St\n",
      "This is a zero\n",
      "257 Main St60561\n",
      "258 Main St 60561\n",
      "Tom lives here!\n",
      "256 Main St\n",
      "This is a zero\n",
      "257 Main St60561\n",
      "258 Main St 60561\n",
      "{'Tom': '254 Main St', 'Jerry': '256 Main St', 0: 'This is a zero', 'Spike': '257 Main St60561', 'Tike': '258 Main St 60561'}\n"
     ]
    }
   ],
   "source": [
    "# .values()\n",
    "print(d_3)\n",
    "\n",
    "print(d_3.values())\n",
    "\n",
    "for value in d_3.values():\n",
    "    print(value)\n",
    "\n",
    "for value in d_3.values():\n",
    "    if value == \"254 Main St\":\n",
    "        print(\"Tom lives here!\")\n",
    "    elif value == \"257 Main St\":\n",
    "        d_3[\"Spike\"] += \"60561\"\n",
    "    else:\n",
    "        print(value)\n",
    "\n",
    "print(d_3)\n",
    "\n"
   ]
  },
  {
   "cell_type": "markdown",
   "metadata": {},
   "source": [
    "## In-Class Exercise #2 - Write a loop that Prints All Key Value Pairs within a formatted string  <br>\n",
    "<p><b>Output should be:</b><br>\n",
    "Max has blue eyes<br>\n",
    "Lilly has brown eyes<br>\n",
    "Barney has blue eyes<br>\n",
    "etc.\n",
    "</p>"
   ]
  },
  {
   "cell_type": "code",
   "execution_count": 43,
   "metadata": {},
   "outputs": [
    {
     "name": "stdout",
     "output_type": "stream",
     "text": [
      "Max has blue eyes\n",
      "Lilly has brown eyes\n",
      "Barney has green eyes\n",
      "Ted has purple eyes\n",
      "Sasuke has sharingan eyes\n",
      "\n",
      "\n",
      "dict_items([('Max', 'blue'), ('Lilly', 'brown'), ('Barney', 'green'), ('Ted', 'purple'), ('Sasuke', 'sharingan')])\n",
      "\n",
      "\n",
      "('Max', 'blue')\n",
      "('Lilly', 'brown')\n",
      "('Barney', 'green')\n",
      "('Ted', 'purple')\n",
      "('Sasuke', 'sharingan')\n",
      "Max has blue eyes\n",
      "Lilly has brown eyes\n",
      "Barney has green eyes\n",
      "Ted has purple eyes\n",
      "Sasuke has sharingan eyes\n"
     ]
    }
   ],
   "source": [
    "# use the dict below\n",
    "people = {\n",
    "    'Max' : 'blue',\n",
    "    'Lilly' : 'brown',\n",
    "    'Barney' : 'green',\n",
    "    'Ted' : 'purple',\n",
    "    'Sasuke' : 'sharingan'    \n",
    "} \n",
    "for name, color in people.items(): #Great example of how to solve this exercise\n",
    "    print(f\"{name} has {color} eyes\")\n",
    "\n",
    "print(\"\\n\")\n",
    "print(people.items())\n",
    "\n",
    "print(\"\\n\")\n",
    "for persons_eyes in people.items():\n",
    "    print(persons_eyes)\n",
    "for persons_eyes in people.items():\n",
    "    print(f\"{persons_eyes[0]} has {persons_eyes[1]} eyes\")"
   ]
  },
  {
   "cell_type": "markdown",
   "metadata": {},
   "source": [
    "##### sorted()"
   ]
  },
  {
   "cell_type": "code",
   "execution_count": 47,
   "metadata": {},
   "outputs": [
    {
     "name": "stdout",
     "output_type": "stream",
     "text": [
      "[('Barney', 'green'), ('Lilly', 'brown'), ('Max', 'blue'), ('Sasuke', 'sharingan'), ('Ted', 'purple')]\n",
      "('Max', 'blue')\n",
      "blue\n"
     ]
    }
   ],
   "source": [
    "# sorts variables in order\n",
    "# sorted(dict.values()) or dict.keys() or dict.items()\n",
    "\n",
    "people = {\n",
    "    'Max' : 'blue',\n",
    "    'Lilly' : 'brown',\n",
    "    'Barney' : 'green',\n",
    "    'Ted' : 'purple',\n",
    "    'Sasuke' : 'sharingan'    \n",
    "} \n",
    "\n",
    "# print(\"Values:\", sorted(people.values()))\n",
    "# print(\"Keys:\", sorted(people.values()))\n",
    "# print(\"Key Value Pairs:\", sorted(people.values()))\n",
    "\n",
    "sorted_items = sorted(people.items())\n",
    "print(sorted_items)\n",
    "\n",
    "print(sorted_items[2])\n",
    "print(sorted_items[2][1])"
   ]
  },
  {
   "cell_type": "markdown",
   "metadata": {},
   "source": [
    "##### List with Dictionaries"
   ]
  },
  {
   "cell_type": "code",
   "execution_count": 48,
   "metadata": {},
   "outputs": [
    {
     "name": "stdout",
     "output_type": "stream",
     "text": [
      "Kakashi\n",
      "Gaara\n",
      "Kakashi\n"
     ]
    }
   ],
   "source": [
    "shinobi = [\"Shikamaru\", \"Gaara\", \"OcotoPops\", {\"leaf_village\": \"Naruto\", \"leaf_village2\": \"Kakashi\"}]\n",
    "\n",
    "leaf_village = {\n",
    "    \"leaf_village\": \"Naruto\",\n",
    "    \"leaf_village2\": \"Kakashi\"\n",
    "}\n",
    "\n",
    "print(leaf_village[\"leaf_village2\"])\n",
    "\n",
    "print(shinobi[1])\n",
    "print(shinobi[3]['leaf_village2'])                                            \n"
   ]
  },
  {
   "cell_type": "markdown",
   "metadata": {},
   "source": [
    "##### Dictionaries with Lists"
   ]
  },
  {
   "cell_type": "code",
   "execution_count": 49,
   "metadata": {},
   "outputs": [
    {
     "name": "stdout",
     "output_type": "stream",
     "text": [
      "90\n",
      "Laura\n"
     ]
    }
   ],
   "source": [
    "# be careful when using numbers as keys in dictionaries, don't confuse them with indexes\n",
    "random_data = {\n",
    "    \"list_1\": [54, 65, 90],\n",
    "    \"names\": [\"John\", \"Laura\", \"Bulbasaur\"]\n",
    "}\n",
    "\n",
    "print(random_data[\"list_1\"][-1])\n",
    "print(random_data[\"names\"][1])"
   ]
  },
  {
   "cell_type": "markdown",
   "metadata": {},
   "source": [
    "##### Dictionaries with Dictionaries"
   ]
  },
  {
   "cell_type": "code",
   "execution_count": 50,
   "metadata": {
    "scrolled": true
   },
   "outputs": [
    {
     "name": "stdout",
     "output_type": "stream",
     "text": [
      "{'Ryan': {'Mexican': ['Tacos', 'Tortas', 'Arroz'], 'Desserts': ['Cheesecake', 'Pie', 'Cookies', 'Cupcakes']}, 'Alex': {'Candy': ['Troli Eggs', 'Lemonheads', 'Nerds Rope', 'Now & Later'], 'Protein': ['Chicken', 'Ground Turkey', 'Turkey Bacon', 'PB&J']}, 'Razvan': {'Italian': ['Pizza', 'Pasta', 'Salad'], 'Deserts': ['Pie', 'Crepes', 'Cake', 'Fruits']}, 'Mo': {'Korean': ['Kimchi Tofu Stir-Fry', 'Kimchi Stew', 'Japchae'], 'Drinks': ['Milk Foam Green Tea', 'Boba Milk Tea', 'Fruit Tea']}, 'Justin': {'Persian': ['Kebabs', 'Steak', 'Tahdig'], 'Italian': ['Penne all Vodka', 'Pizza', 'Pesto Gnocchi']}, 'Morgan': {'Mexican': ['fajitas', 'Burriatacos', 'Quesadillas'], 'italian': ['pizza', 'chicken Alfredo'], 'Dessert': ['Anything chocolate']}, 'Will': {'Pizza': ['Hawaiian', 'Deepdish', 'Pepperoni'], 'Candy': ['Hot Tamales', 'Snickers', 'Reeces', 'Twix']}}\n"
     ]
    }
   ],
   "source": [
    "# to get values, must traverse through keys\n",
    "\n",
    "# print everyone'sfavorite foods\n",
    "print(\"\\nHere are all our favorite foods: \\n\")\n",
    "for person in food_dict.keys():\n",
    "    print(f\"\\n{person}'s favorite foods are: \")\n",
    "    for food_type in food_dict[person].keys():\n",
    "        print(food_type)\n",
    "        for food in food_dict[person][food_type]:\n",
    "            print(food)\n",
    "\n",
    "\n",
    "food_dict = {\n",
    "    \"Ryan\": {\n",
    "        \"Mexican\": [\"Tacos\", \"Tortas\", \"Arroz\"],\n",
    "        \"Desserts\": [\"Cheesecake\", \"Pie\", \"Cookies\", \"Cupcakes\"]\n",
    "    },\n",
    "    \"Alex\": {\n",
    "        \"Candy\": [\"Troli Eggs\", \"Lemonheads\", \"Nerds Rope\", \"Now & Later\"],\n",
    "        \"Protein\": [\"Chicken\", \"Ground Turkey\", \"Turkey Bacon\", \"PB&J\"]\n",
    "    },\n",
    "    \"Razvan\" : {\n",
    "        \"Italian\" : [\"Pizza\", \"Pasta\", \"Salad\"],\n",
    "        \"Deserts\" : [\"Pie\", \"Crepes\", \"Cake\", \"Fruits\"]\n",
    "    },\n",
    "    \"Mo\": {\n",
    "        \"Korean\": [\"Kimchi Tofu Stir-Fry\", \"Kimchi Stew\", \"Japchae\"],\n",
    "        \"Drinks\": [\"Milk Foam Green Tea\", \"Boba Milk Tea\", \"Fruit Tea\"]\n",
    "    },\n",
    "    \"Justin\": {\n",
    "        \"Persian\": [\"Kebabs\", \"Steak\", \"Tahdig\"],\n",
    "        \"Italian\": [\"Penne all Vodka\", \"Pizza\", \"Pesto Gnocchi\"]\n",
    "    },\n",
    "    \"Morgan\": {\n",
    "        \"Mexican\": [\"fajitas\",\"Burriatacos\", \"Quesadillas\"],\n",
    "        \"italian\": [\"pizza\", \"chicken Alfredo\"],\n",
    "        \"Dessert\": [\"Anything chocolate\"]\n",
    "    },\n",
    "    \"Will\": {\n",
    "        \"Pizza\": [\"Hawaiian\", \"Deepdish\", \"Pepperoni\"],\n",
    "        \"Candy\": [\"Hot Tamales\", \"Snickers\", \"Reeces\", \"Twix\"]\n",
    "    }\n",
    "}\n",
    "\n",
    "print(food_dict)\n"
   ]
  },
  {
   "cell_type": "code",
   "execution_count": 52,
   "metadata": {},
   "outputs": [
    {
     "name": "stdout",
     "output_type": "stream",
     "text": [
      "Pie\n",
      "Crepes\n",
      "Cake\n",
      "Fruits\n",
      "Cake\n",
      "Cake\n"
     ]
    }
   ],
   "source": [
    "for food in food_dict[\"Razvan\"][\"Deserts\"]:\n",
    "    print(food)\n",
    "# accessing a specific dessert\n",
    "print(food_dict[\"Razvan\"][\"Deserts\"][2])\n",
    "# setting \"cake\" to a variable name\n",
    "a_dessert = food_dict[\"Razvan\"][\"Deserts\"] [2]\n",
    "print(a_dessert)"
   ]
  },
  {
   "cell_type": "code",
   "execution_count": 53,
   "metadata": {},
   "outputs": [
    {
     "name": "stdout",
     "output_type": "stream",
     "text": [
      "Ryan\n",
      "Alex\n",
      "Razvan\n",
      "Mo\n",
      "Justin\n",
      "Morgan\n",
      "Will\n"
     ]
    }
   ],
   "source": [
    "# the people in our food dict\n",
    "for person in food_dict:\n",
    "    print(person)"
   ]
  },
  {
   "cell_type": "code",
   "execution_count": 54,
   "metadata": {},
   "outputs": [
    {
     "name": "stdout",
     "output_type": "stream",
     "text": [
      "Mexican\n",
      "Desserts\n",
      "Candy\n",
      "Protein\n",
      "Italian\n",
      "Deserts\n",
      "Korean\n",
      "Drinks\n",
      "Persian\n",
      "Italian\n",
      "Mexican\n",
      "italian\n",
      "Dessert\n",
      "Pizza\n",
      "Candy\n"
     ]
    }
   ],
   "source": [
    "# types of food in our food dict\n",
    "for person in food_dict:\n",
    "    for genre in food_dict[person]:\n",
    "        print(genre)"
   ]
  },
  {
   "cell_type": "code",
   "execution_count": 56,
   "metadata": {},
   "outputs": [
    {
     "name": "stdout",
     "output_type": "stream",
     "text": [
      "\n",
      "Here are all our favorite foods: \n",
      "\n",
      "\n",
      "Ryan's favorite foods are: \n",
      "Mexican\n",
      "Tacos\n",
      "Tortas\n",
      "Arroz\n",
      "Desserts\n",
      "Cheesecake\n",
      "Pie\n",
      "Cookies\n",
      "Cupcakes\n",
      "\n",
      "Alex's favorite foods are: \n",
      "Candy\n",
      "Troli Eggs\n",
      "Lemonheads\n",
      "Nerds Rope\n",
      "Now & Later\n",
      "Protein\n",
      "Chicken\n",
      "Ground Turkey\n",
      "Turkey Bacon\n",
      "PB&J\n",
      "\n",
      "Razvan's favorite foods are: \n",
      "Italian\n",
      "Pizza\n",
      "Pasta\n",
      "Salad\n",
      "Deserts\n",
      "Pie\n",
      "Crepes\n",
      "Cake\n",
      "Fruits\n",
      "\n",
      "Mo's favorite foods are: \n",
      "Korean\n",
      "Kimchi Tofu Stir-Fry\n",
      "Kimchi Stew\n",
      "Japchae\n",
      "Drinks\n",
      "Milk Foam Green Tea\n",
      "Boba Milk Tea\n",
      "Fruit Tea\n",
      "\n",
      "Justin's favorite foods are: \n",
      "Persian\n",
      "Kebabs\n",
      "Steak\n",
      "Tahdig\n",
      "Italian\n",
      "Penne all Vodka\n",
      "Pizza\n",
      "Pesto Gnocchi\n",
      "\n",
      "Morgan's favorite foods are: \n",
      "Mexican\n",
      "fajitas\n",
      "Burriatacos\n",
      "Quesadillas\n",
      "italian\n",
      "pizza\n",
      "chicken Alfredo\n",
      "Dessert\n",
      "Anything chocolate\n",
      "\n",
      "Will's favorite foods are: \n",
      "Pizza\n",
      "Hawaiian\n",
      "Deepdish\n",
      "Pepperoni\n",
      "Candy\n",
      "Hot Tamales\n",
      "Snickers\n",
      "Reeces\n",
      "Twix\n"
     ]
    }
   ],
   "source": [
    "# print everyone'sfavorite foods\n",
    "print(\"\\nHere are all our favorite foods: \\n\")\n",
    "for person in food_dict.keys():\n",
    "    print(f\"\\n{person}'s favorite foods are: \")\n",
    "    for food_type in food_dict[person].keys():\n",
    "        print(food_type)\n",
    "        for food in food_dict[person][food_type]:\n",
    "            print(food)"
   ]
  },
  {
   "cell_type": "markdown",
   "metadata": {},
   "source": [
    "## Dictionaries vs. Lists (over time) Example of RUNTIME\n",
    "### When inputting values in a Dictionary vs List"
   ]
  },
  {
   "cell_type": "code",
   "execution_count": null,
   "metadata": {},
   "outputs": [],
   "source": [
    "import time\n",
    "\n",
    "#generate dictionary\n",
    "\n",
    "    \n",
    "\n",
    "    \n",
    "\n"
   ]
  },
  {
   "cell_type": "code",
   "execution_count": null,
   "metadata": {},
   "outputs": [],
   "source": [
    "#track the time for the dictionary\n",
    "\n",
    "\n",
    "\n",
    "        "
   ]
  },
  {
   "cell_type": "markdown",
   "metadata": {},
   "source": [
    "## Exercise #3 - Write a Function that asks someone's name and address, and then stores that into a dictionary, and continues to do so until they choose to 'quit'. Once they quit, the program should print all names and addresses. <br>\n",
    "<p>\n",
    "<b>Proper steps:</b><br>\n",
    "step 1: write a function that takes in information and stores it in a dictionary<br>\n",
    "step 2: define an empty dictionary to work with<br>\n",
    "step 3: create our loop, which asks the user for information until they quit<br>\n",
    "step 4: ask for the information, and store it into variables<br>\n",
    "step 5: check if the user types quit<br>\n",
    "step 5a: print out all information<br>\n",
    "step 5b: break out of the loop<br>\n",
    "step 6: if they didn't quit, add the information to the dictionary<br>\n",
    "step 7: invoke the function by calling it\n",
    "</p>"
   ]
  },
  {
   "cell_type": "code",
   "execution_count": 57,
   "metadata": {},
   "outputs": [
    {
     "name": "stdin",
     "output_type": "stream",
     "text": [
      "Enter a name or say 'quit' to quit:  Justin\n",
      "Enter an address or say 'quit' to quit:  New york\n",
      "Enter a name or say 'quit' to quit:  john\n",
      "Enter an address or say 'quit' to quit:  texas\n",
      "Enter a name or say 'quit' to quit:  quit\n"
     ]
    },
    {
     "name": "stdout",
     "output_type": "stream",
     "text": [
      "The address for Justin is New york\n",
      "The address for john is texas\n"
     ]
    }
   ],
   "source": [
    "from IPython.display import clear_output\n",
    "#step 1 we write a pretend function\n",
    "\n",
    "#step 2\n",
    "d = {}\n",
    "\n",
    "#step 3\n",
    "while True:\n",
    "    #step 4\n",
    "    name = input(\"Enter a name or say 'quit' to quit: \")\n",
    "    if name.lower() != 'quit':\n",
    "        address = input(\"Enter an address or say 'quit' to quit: \")\n",
    "    #step 5\n",
    "    if name.lower() == \"quit\" or address.lower() == \"quit\":\n",
    "        #step 5a\n",
    "        for name, address in d.items():\n",
    "            print(f\"The address for {name} is {address}\")\n",
    "        #step 5b\n",
    "        break\n",
    "\n",
    "    d[name] = address #step 6\n",
    "\n",
    "#step 7, pretend we called a function\n",
    "\n",
    "            \n",
    "        \n",
    "        "
   ]
  },
  {
   "cell_type": "code",
   "execution_count": 61,
   "metadata": {},
   "outputs": [
    {
     "name": "stdin",
     "output_type": "stream",
     "text": [
      "What would you like to add?  fruits\n",
      "How many would you like to add?  5\n",
      "What would you like to add?  ice cream\n",
      "How many would you like to add?  7\n",
      "What would you like to add?  quit\n"
     ]
    },
    {
     "name": "stdout",
     "output_type": "stream",
     "text": [
      "{'fruits': '5', 'ice cream': '7'}\n"
     ]
    }
   ],
   "source": [
    "cart = {}\n",
    "\n",
    "while True:\n",
    "    item = input(\"What would you like to add? \")\n",
    "    if item.lower() != \"quit\":\n",
    "        quantity = input(\"How many would you like to add? \")\n",
    "    if item.lower() == \"quit\" or quantity.lower() == \"quit\":\n",
    "        print(cart)\n",
    "        break\n",
    "\n",
    "    cart[item] = quantity"
   ]
  },
  {
   "cell_type": "markdown",
   "metadata": {},
   "source": [
    "## Set <br>\n",
    "<p>A Set is an unordered collection data type that is iterable (loop), mutable, and has no duplicate elements.<br>Major advantage is that it is highly optimized in checking if something is in the set, as opposed to checking if something is in a list.</p>"
   ]
  },
  {
   "cell_type": "markdown",
   "metadata": {},
   "source": [
    "##### Declaring"
   ]
  },
  {
   "cell_type": "code",
   "execution_count": 62,
   "metadata": {},
   "outputs": [
    {
     "name": "stdout",
     "output_type": "stream",
     "text": [
      "{8, 1, 4}\n",
      "{1, 4, 5, 6, 7, 8, 9}\n"
     ]
    }
   ],
   "source": [
    "# set() or {}\n",
    "# no order {3, 2, 1} outputs as {1, 2, 3}\n",
    "# elements are hashed like a dictionary\n",
    "\n",
    "nums = {4, 1, 8, 4}\n",
    "print(nums)\n",
    "\n",
    "\n",
    "my_list = [1,1,1,1,1,4,5,6,6,6,6,6,6,6,7,7,8,9,9,9,9,9,9]\n",
    "my_set = set(my_list)\n",
    "print(my_set)"
   ]
  },
  {
   "cell_type": "code",
   "execution_count": 66,
   "metadata": {
    "scrolled": true
   },
   "outputs": [
    {
     "name": "stdout",
     "output_type": "stream",
     "text": [
      "{1, 4, 5, 6, 7, 8, 9}\n",
      "[1, 4, 5, 6, 7, 8, 9]\n"
     ]
    }
   ],
   "source": [
    "#remove all duplicates from the list\n",
    "\n",
    "my_list = [1,1,1,1,1,4,5,6,6,6,6,6,6,6,7,7,8,9,9,9,9,9,9]\n",
    "my_set = set((my_list))\n",
    "print(my_set)\n",
    "\n",
    "my_list = list(my_set)\n",
    "print(my_list)\n",
    "            "
   ]
  },
  {
   "cell_type": "markdown",
   "metadata": {},
   "source": [
    "##### .add()"
   ]
  },
  {
   "cell_type": "code",
   "execution_count": 67,
   "metadata": {},
   "outputs": [
    {
     "name": "stdout",
     "output_type": "stream",
     "text": [
      "{2, 4, 5, 7, 9}\n",
      "{2, 4, 5, 22, 7, 9}\n",
      "{2, 4, 5, 22, 7, 9, 'Hello'}\n"
     ]
    }
   ],
   "source": [
    "# set.add()\n",
    "my_set = {2, 5, 4, 7, 9}\n",
    "print(my_set)\n",
    "my_set.add(22)\n",
    "print(my_set)\n",
    "my_set.add(\"Hello\")\n",
    "print(my_set)\n",
    "# my_set[2]\n",
    "\n",
    "\n"
   ]
  },
  {
   "cell_type": "markdown",
   "metadata": {},
   "source": [
    "##### .remove()"
   ]
  },
  {
   "cell_type": "code",
   "execution_count": 68,
   "metadata": {},
   "outputs": [
    {
     "name": "stdout",
     "output_type": "stream",
     "text": [
      "{2, 4, 5, 22, 7, 9, 'Hello'}\n",
      "{2, 4, 5, 7, 9, 'Hello'}\n"
     ]
    }
   ],
   "source": [
    "# removes by value\n",
    "# set.remove()\n",
    "print(my_set)\n",
    "my_set.remove(22)\n",
    "print(my_set)\n"
   ]
  },
  {
   "cell_type": "markdown",
   "metadata": {},
   "source": [
    "##### .union() "
   ]
  },
  {
   "cell_type": "code",
   "execution_count": 71,
   "metadata": {},
   "outputs": [
    {
     "name": "stdout",
     "output_type": "stream",
     "text": [
      "{1, 2, 3, 4, 5, 6, 7, 8}\n",
      "{1, 2, 3, 4, 5, 6, 7, 8}\n"
     ]
    }
   ],
   "source": [
    "# Returns a union of two sets, can also use '|' or set.union(set2)\n",
    "# joins all numbers, gets rid of duplicates\n",
    "s1 = {1, 2, 3, 4}\n",
    "s2 = {3, 4, 5, 6}\n",
    "s5 = {3, 4, 7, 8}\n",
    "\n",
    "s3 = s1.union(s2, s5)\n",
    "print(s3)\n",
    "\n",
    "#or\n",
    "\n",
    "\n",
    "s4 = s2 | s1 | s5\n",
    "\n",
    "print(s4)"
   ]
  },
  {
   "cell_type": "markdown",
   "metadata": {},
   "source": [
    "##### .intersection()"
   ]
  },
  {
   "cell_type": "code",
   "execution_count": 72,
   "metadata": {},
   "outputs": [
    {
     "name": "stdout",
     "output_type": "stream",
     "text": [
      "{3, 4, 5}\n",
      "{3, 4, 5}\n"
     ]
    }
   ],
   "source": [
    "# Returns an intersection of two sets, can also use '&'\n",
    "# only takes similar elements from both sets\n",
    "s1 = {1, 2, 3, 4, 5}\n",
    "s2 = {3, 4, 5, 6}\n",
    "s5 = {3, 4, 7, 8, 5}\n",
    "\n",
    "\n",
    "s3 = s2.intersection(s1, s5)\n",
    "print(s3)\n",
    "\n",
    "#or\n",
    "\n",
    "s4 = s2 & s1 & s5\n",
    "print(s4)"
   ]
  },
  {
   "cell_type": "markdown",
   "metadata": {},
   "source": [
    "##### .difference()"
   ]
  },
  {
   "cell_type": "code",
   "execution_count": 3,
   "metadata": {},
   "outputs": [
    {
     "name": "stdout",
     "output_type": "stream",
     "text": [
      "{1, 2}\n",
      "{5, 6}\n",
      "{1, 2}\n",
      "{5, 6}\n"
     ]
    }
   ],
   "source": [
    "# Returns a set containing all the elements of invoking set that are not in the second set, can also use '-'\n",
    "# only takes values from the first set that are not in the second set\n",
    "# order matters\n",
    "\n",
    "s1 = {1, 2, 3, 4}\n",
    "s2 = {3, 4, 5, 6}\n",
    "\n",
    "\n",
    "s3 = s1.difference(s2)\n",
    "print(s3)\n",
    "s4 = s2.difference(s1)\n",
    "print(s4)\n",
    "\n",
    "#or\n",
    "\n",
    "s5 = s1 -s2\n",
    "print(s5)\n",
    "\n",
    "s6 = s2 - s1\n",
    "print(s6)"
   ]
  },
  {
   "cell_type": "markdown",
   "metadata": {},
   "source": [
    "##### .clear()"
   ]
  },
  {
   "cell_type": "code",
   "execution_count": 75,
   "metadata": {},
   "outputs": [
    {
     "name": "stdout",
     "output_type": "stream",
     "text": [
      "{5, 6}\n",
      "set()\n"
     ]
    }
   ],
   "source": [
    "# Empties the whole set\n",
    "# set.clear()\n",
    "\n",
    "print(s6)\n",
    "s6.clear()\n",
    "print(s6)"
   ]
  },
  {
   "cell_type": "markdown",
   "metadata": {},
   "source": [
    "##### Frozenset <br>\n",
    "<p>Frozen sets are immutable objects that only support methods and operators that produce a result without affecting the frozen set or sets to which they are applied.</p><br><b>Unique & Immutable</b>"
   ]
  },
  {
   "cell_type": "code",
   "execution_count": 78,
   "metadata": {},
   "outputs": [
    {
     "name": "stdout",
     "output_type": "stream",
     "text": [
      "{2, 3, 4, 5, 'my dog is neat', 7, 'hello'}\n",
      "frozenset({2, 3, 4, 5, 'my dog is neat', 7, 'hello'})\n",
      "{2, 3, 4, 5, 'my dog is neat', 7, 'hello'}\n",
      "{2, 3, 4, 5, 'my dog is neat', 7, 'cool beans', 'hello'}\n",
      "frozenset({2, 3, 4, 5, 'my dog is neat', 7, 'hello', 'cool beans'})\n"
     ]
    }
   ],
   "source": [
    "# frozenset([])\n",
    "my_set = {2, 3, 4, \"hello\", 7, \"my dog is neat\", 5}\n",
    "\n",
    "print(my_set)\n",
    "\n",
    "frozen_set = frozenset(my_set)\n",
    "\n",
    "print(frozen_set)\n",
    "\n",
    "# cannot add or remove because they're immutable\n",
    "# frozen_set.add(22)\n",
    "# frozen_set.remove(\"hello\")\n",
    "\n",
    "my_new_set = set(frozen_set)\n",
    "\n",
    "print(my_new_set)\n",
    "my_new_set.add(\"cool beans\")\n",
    "print(my_new_set)\n",
    "frozen_set = frozenset(my_new_set)\n",
    "print(frozen_set)"
   ]
  },
  {
   "cell_type": "markdown",
   "metadata": {},
   "source": [
    "# Exercises"
   ]
  },
  {
   "cell_type": "markdown",
   "metadata": {},
   "source": [
    "### 1) Build a Shopping Cart <br>\n",
    "<p><b>You can use either lists or dictionaries. The program should have the following capabilities:</b><br><br>\n",
    "1) Takes in input <br>\n",
    "2) Stores user input into a dictionary or list <br>\n",
    "3) The User can add or delete items <br>\n",
    "4) The User can see current shopping list <br>\n",
    "5) The program Loops until user 'quits' <br>\n",
    "6) Upon quiting the program, print out all items in the user's list <br>\n",
    "</p>"
   ]
  },
  {
   "cell_type": "code",
   "execution_count": 2,
   "metadata": {},
   "outputs": [
    {
     "name": "stdin",
     "output_type": "stream",
     "text": [
      "Hello, would you like to ADD or REMOVE an item from your shopping cart today?  add\n",
      "What would you like to add? steak\n",
      "How many?  4\n",
      "Hello, would you like to ADD or REMOVE an item from your shopping cart today?  add\n",
      "What would you like to add? strawberries\n",
      "How many?  7\n",
      "Hello, would you like to ADD or REMOVE an item from your shopping cart today?  add\n",
      "What would you like to add? apples\n",
      "How many?  2\n",
      "Hello, would you like to ADD or REMOVE an item from your shopping cart today?  show\n"
     ]
    },
    {
     "name": "stdout",
     "output_type": "stream",
     "text": [
      "You have {'steak': '4', 'strawberries': '7', 'apples': '2'} in your shopping cart\n"
     ]
    },
    {
     "name": "stdin",
     "output_type": "stream",
     "text": [
      "Hello, would you like to ADD or REMOVE an item from your shopping cart today?  quit\n"
     ]
    },
    {
     "name": "stdout",
     "output_type": "stream",
     "text": [
      "Ok, you are quiting with {'steak': '4', 'strawberries': '7', 'apples': '2'} in your shopping cart. Have a great day!\n"
     ]
    }
   ],
   "source": [
    "from IPython.display import clear_output\n",
    "\n",
    "# Ask the user four bits of input: Do you want to : Show/Add/Delete or Quit?\n",
    "\n",
    "shopping_cart = {}\n",
    "\n",
    "while True:\n",
    "    item = input(\"Hello, would you like to ADD or REMOVE an item from your shopping cart today? \").lower()\n",
    "    if item == \"add\":\n",
    "        added_items = input(\"What would you like to add?\").lower()\n",
    "        quantity = input(\"How many? \").lower()\n",
    "        shopping_cart[added_items] = quantity\n",
    "    elif item == \"remove\":\n",
    "        removed_items = input(\"What would you like to remove? \").lower()\n",
    "        if removed_item in shopping_cart:\n",
    "            quantity = input(\"How many? \").lower()\n",
    "            shopping_cart[removed_item] -= quantity\n",
    "        else:\n",
    "            print(\"That item is not in your shopping cart\")\n",
    "    elif item == \"show\":\n",
    "        print(f\"You have {shopping_cart} in your shopping cart\")\n",
    "    elif item == \"quit\":\n",
    "        print(f\"Ok, you are quiting with {shopping_cart} in your shopping cart. Have a great day!\")\n",
    "        break\n",
    "    else:\n",
    "        print(\"I'm sorry that is an invalid command\")\n",
    "        \n",
    "        "
   ]
  },
  {
   "cell_type": "markdown",
   "metadata": {},
   "source": [
    "### 2) Set Practice"
   ]
  },
  {
   "cell_type": "markdown",
   "metadata": {},
   "source": [
    "<p><b>Remove all duplicates from the following list</b></p>"
   ]
  },
  {
   "cell_type": "code",
   "execution_count": 5,
   "metadata": {},
   "outputs": [
    {
     "name": "stdout",
     "output_type": "stream",
     "text": [
      "{1, 2, 3, 4, 5, 6, 11, 12, 14, 16}\n"
     ]
    }
   ],
   "source": [
    "nums_list = [1, 1, 1, 2, 2, 3, 5, 6, 4, 12, 11, 12, 12, 14, 16, 16, 16, 1, 1, 1, 2, 2]\n",
    "\n",
    "my_set = set((nums_list))\n",
    "print(my_set)\n",
    "\n"
   ]
  },
  {
   "cell_type": "markdown",
   "metadata": {},
   "source": [
    "<p><b>Out put the intersection of the following the following sets.</b></p>"
   ]
  },
  {
   "cell_type": "code",
   "execution_count": 10,
   "metadata": {},
   "outputs": [
    {
     "name": "stdout",
     "output_type": "stream",
     "text": [
      "{26, 27}\n"
     ]
    }
   ],
   "source": [
    "set1 = {20, 24, 26, 27}\n",
    "set2 = {26, 35, 63, 27}\n",
    "\n",
    "set3 = set1.intersection(set2)\n",
    "print(set3)\n",
    "\n",
    "\n"
   ]
  },
  {
   "cell_type": "markdown",
   "metadata": {},
   "source": [
    "<p><b>Output the difference between the following sets</b></p>"
   ]
  },
  {
   "cell_type": "code",
   "execution_count": 11,
   "metadata": {},
   "outputs": [
    {
     "name": "stdout",
     "output_type": "stream",
     "text": [
      "{89, 100}\n",
      "{54, 103}\n"
     ]
    }
   ],
   "source": [
    "set3 = {100, 65, 89, 200}\n",
    "set4 = {65, 103, 54, 200}\n",
    "\n",
    "set5 = set3.difference(set4)\n",
    "print(set5)\n",
    "set6 = set4.difference(set3)\n",
    "print(set6)\n",
    "\n"
   ]
  },
  {
   "cell_type": "code",
   "execution_count": null,
   "metadata": {},
   "outputs": [],
   "source": []
  }
 ],
 "metadata": {
  "kernelspec": {
   "display_name": "Python 3 (ipykernel)",
   "language": "python",
   "name": "python3"
  },
  "language_info": {
   "codemirror_mode": {
    "name": "ipython",
    "version": 3
   },
   "file_extension": ".py",
   "mimetype": "text/x-python",
   "name": "python",
   "nbconvert_exporter": "python",
   "pygments_lexer": "ipython3",
   "version": "3.12.1"
  }
 },
 "nbformat": 4,
 "nbformat_minor": 4
}
